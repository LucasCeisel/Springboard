{
 "cells": [
  {
   "cell_type": "code",
   "execution_count": null,
   "id": "c254c8ab-15cf-4987-b4e0-081f7a47b020",
   "metadata": {},
   "outputs": [],
   "source": []
  }
 ],
 "metadata": {
  "kernelspec": {
   "display_name": "",
   "name": ""
  },
  "language_info": {
   "name": ""
  }
 },
 "nbformat": 4,
 "nbformat_minor": 5
}
